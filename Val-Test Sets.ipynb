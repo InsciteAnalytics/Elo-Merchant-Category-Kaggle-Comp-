{
 "cells": [
  {
   "cell_type": "markdown",
   "metadata": {
    "heading_collapsed": true
   },
   "source": [
    "### Guide to the notebook"
   ]
  },
  {
   "cell_type": "markdown",
   "metadata": {
    "hidden": true
   },
   "source": [
    "__The notebook in a nutshell:__ Imported the aggregated DF and applied Random Forest thrice using different Hyperparameters and noted the RMSE on the validation as well as the test set. Next, Linear Regression was applied, and lastly, a small Neural Net was applied. Since the validation and test scores formed around about a straight line (their variance was similar), the chosen validation set was exported for future use."
   ]
  },
  {
   "cell_type": "markdown",
   "metadata": {
    "heading_collapsed": true
   },
   "source": [
    "### Importing Libs"
   ]
  },
  {
   "cell_type": "code",
   "execution_count": 1,
   "metadata": {
    "ExecuteTime": {
     "end_time": "2019-03-16T17:52:45.458037Z",
     "start_time": "2019-03-16T17:52:39.131686Z"
    },
    "hidden": true
   },
   "outputs": [
    {
     "name": "stderr",
     "output_type": "stream",
     "text": [
      "Using TensorFlow backend.\n"
     ]
    }
   ],
   "source": [
    "import pandas as pd\n",
    "import numpy as np\n",
    "from sklearn.model_selection import train_test_split\n",
    "from sklearn.metrics import mean_squared_error\n",
    "from math import sqrt\n",
    "from sklearn.ensemble import RandomForestRegressor\n",
    "from sklearn.linear_model import LinearRegression\n",
    "from keras.models import Sequential\n",
    "from keras.layers import Dense\n",
    "from keras.layers import GaussianNoise\n",
    "from sklearn import svm"
   ]
  },
  {
   "cell_type": "markdown",
   "metadata": {
    "heading_collapsed": true
   },
   "source": [
    "### Importing & Fixing Datasets"
   ]
  },
  {
   "cell_type": "code",
   "execution_count": 2,
   "metadata": {
    "ExecuteTime": {
     "end_time": "2019-03-16T17:52:56.649626Z",
     "start_time": "2019-03-16T17:52:56.387135Z"
    },
    "hidden": true
   },
   "outputs": [],
   "source": [
    "Xtrain = pd.read_pickle('XtrainRF'); Ytrain = pd.read_pickle('YtrainRF'); Xtest = pd.read_pickle('XtestRF')\n",
    "\n",
    "Xtrain[['feature_1', 'feature_2']] = Xtrain[['feature_1', 'feature_2']].astype('category')\n",
    "\n",
    "Xtrain[['Cat_1_Y','Cat2Tot1', 'Cat2Tot2', 'Cat2Tot3', 'Cat2Tot4', 'Cat3TotA', 'Cat3TotB']]\\\n",
    "=Xtrain[['Cat_1_Y','Cat2Tot1', 'Cat2Tot2', 'Cat2Tot3', 'Cat2Tot4', 'Cat3TotA', 'Cat3TotB']].astype('int32')\n",
    "\n",
    "Xtest[['feature_1', 'feature_2']] = Xtest[['feature_1', 'feature_2']].astype('category')\n",
    "\n",
    "Xtest[['Cat_1_Y','Cat2Tot1', 'Cat2Tot2', 'Cat2Tot3', 'Cat2Tot4', 'Cat3TotA', 'Cat3TotB']]\\\n",
    "=Xtest[['Cat_1_Y','Cat2Tot1', 'Cat2Tot2', 'Cat2Tot3', 'Cat2Tot4', 'Cat3TotA', 'Cat3TotB']].astype('int32')"
   ]
  },
  {
   "cell_type": "markdown",
   "metadata": {
    "heading_collapsed": true
   },
   "source": [
    "### Creating Vars"
   ]
  },
  {
   "cell_type": "code",
   "execution_count": 11,
   "metadata": {
    "hidden": true
   },
   "outputs": [],
   "source": [
    "# Make Vars\n",
    "X=Train.loc[:,Train.columns!='target']\n",
    "Y=Train.loc[:,'target']\n",
    "\n",
    "Xtrain,Xval,Ytrain,Yval=train_test_split(Xtrain,Ytrain,test_size=0.20)\n",
    "\n",
    "Xtrain.to_pickle('Xtrain');Xval.to_pickle('Xval');Ytrain.to_pickle('Ytrain');Yval.to_pickle('Yval')\n",
    "\n",
    "Xtrain.first_active_month=Xtrain.first_active_month.astype('category');Xtrain.first_active_month=Xtrain.first_active_month.cat.codes;Xtrain\n",
    "\n",
    "Xval.first_active_month=Xval.first_active_month.astype('category');Xval.first_active_month=Xval.first_active_month.cat.codes;Xval\n",
    "\n",
    "XtrainRf1=Xtrain.loc[:,Xtrain.columns!='card_id'];XvalRf1=Xval.loc[:,Xval.columns!='card_id']\n",
    "\n",
    "Xtest=Test.loc[:,Test.columns!='card_id']\n",
    "\n",
    "Xtest.first_active_month=Xtest.first_active_month.astype('category').cat.codes;Xtest.describe(include='all')"
   ]
  },
  {
   "cell_type": "markdown",
   "metadata": {
    "heading_collapsed": true
   },
   "source": [
    "### Applying 1st RF"
   ]
  },
  {
   "cell_type": "code",
   "execution_count": 16,
   "metadata": {
    "ExecuteTime": {
     "end_time": "2019-03-16T15:38:58.005799Z",
     "start_time": "2019-03-16T15:38:57.990182Z"
    },
    "hidden": true
   },
   "outputs": [],
   "source": [
    "RF=RandomForestRegressor(n_estimators=100,max_features=0.5,min_samples_leaf=1,bootstrap=False,n_jobs=-1)\n",
    "\n",
    "modelRF=RF.fit(Xtrain,Ytrain)\n",
    "\n",
    "RF1.oob_score_\n",
    "\n",
    "Ypred=RF.predict(Xval)"
   ]
  },
  {
   "cell_type": "markdown",
   "metadata": {
    "heading_collapsed": true,
    "hidden": true
   },
   "source": [
    "#### RMSE of val set"
   ]
  },
  {
   "cell_type": "code",
   "execution_count": 7,
   "metadata": {
    "ExecuteTime": {
     "end_time": "2019-03-16T15:30:57.503477Z",
     "start_time": "2019-03-16T15:30:57.425336Z"
    },
    "hidden": true
   },
   "outputs": [
    {
     "data": {
      "text/plain": [
       "1.714320993586702"
      ]
     },
     "execution_count": 7,
     "metadata": {},
     "output_type": "execute_result"
    }
   ],
   "source": [
    "# RMSE 1st Check\n",
    "MSE=mean_squared_error(Yval,Ypred)\n",
    "RMSE=sqrt(MSE);RMSE"
   ]
  },
  {
   "cell_type": "code",
   "execution_count": 13,
   "metadata": {
    "ExecuteTime": {
     "end_time": "2019-03-16T15:35:09.548914Z",
     "start_time": "2019-03-16T15:35:09.517999Z"
    },
    "hidden": true
   },
   "outputs": [
    {
     "data": {
      "text/plain": [
       "1.704414994858926"
      ]
     },
     "execution_count": 13,
     "metadata": {},
     "output_type": "execute_result"
    }
   ],
   "source": [
    "# RMSE 2nd Check\n",
    "MSE=mean_squared_error(Yval,Ypred)\n",
    "RMSE=sqrt(MSE);RMSE"
   ]
  },
  {
   "cell_type": "code",
   "execution_count": 19,
   "metadata": {
    "ExecuteTime": {
     "end_time": "2019-03-16T15:41:23.784394Z",
     "start_time": "2019-03-16T15:41:23.768775Z"
    },
    "hidden": true
   },
   "outputs": [
    {
     "data": {
      "text/plain": [
       "1.702026929565763"
      ]
     },
     "execution_count": 19,
     "metadata": {},
     "output_type": "execute_result"
    }
   ],
   "source": [
    "# RMSE 3rd Check\n",
    "MSE=mean_squared_error(Yval,Ypred)\n",
    "RMSE=sqrt(MSE);RMSE"
   ]
  },
  {
   "cell_type": "markdown",
   "metadata": {
    "heading_collapsed": true,
    "hidden": true
   },
   "source": [
    "#### RMSE of test set"
   ]
  },
  {
   "cell_type": "code",
   "execution_count": 20,
   "metadata": {
    "ExecuteTime": {
     "end_time": "2019-03-16T15:42:33.143508Z",
     "start_time": "2019-03-16T15:42:29.003600Z"
    },
    "hidden": true
   },
   "outputs": [],
   "source": [
    "Ypred=RF.predict(Xtest)"
   ]
  },
  {
   "cell_type": "code",
   "execution_count": 21,
   "metadata": {
    "ExecuteTime": {
     "end_time": "2019-03-16T15:42:33.674448Z",
     "start_time": "2019-03-16T15:42:33.143508Z"
    },
    "hidden": true
   },
   "outputs": [
    {
     "name": "stderr",
     "output_type": "stream",
     "text": [
      "C:\\Users\\AMS\\Anaconda3\\envs\\ML\\lib\\site-packages\\ipykernel_launcher.py:1: FutureWarning: The signature of `Series.to_csv` was aligned to that of `DataFrame.to_csv`, and argument 'header' will change its default value from False to True: please pass an explicit value to suppress this warning.\n",
      "  \"\"\"Entry point for launching an IPython kernel.\n"
     ]
    }
   ],
   "source": [
    "Ypred=pd.Series(Ypred);Ypred.to_csv('Ypred.csv')"
   ]
  },
  {
   "cell_type": "markdown",
   "metadata": {
    "hidden": true
   },
   "source": [
    "__RMSE Test Set 1st Check: 3.97082__"
   ]
  },
  {
   "cell_type": "markdown",
   "metadata": {
    "hidden": true
   },
   "source": [
    "__RMSE Test Set 2nd Check: 3.96522__"
   ]
  },
  {
   "cell_type": "markdown",
   "metadata": {
    "hidden": true
   },
   "source": [
    "__RMSE Test Set 3rd Check: 3.96388__"
   ]
  },
  {
   "cell_type": "markdown",
   "metadata": {
    "heading_collapsed": true
   },
   "source": [
    "### Applying LinReg"
   ]
  },
  {
   "cell_type": "markdown",
   "metadata": {
    "heading_collapsed": true,
    "hidden": true
   },
   "source": [
    "#### One Hot Encoding"
   ]
  },
  {
   "cell_type": "code",
   "execution_count": null,
   "metadata": {
    "ExecuteTime": {
     "end_time": "2019-03-16T17:53:28.381274Z",
     "start_time": "2019-03-16T17:53:28.144653Z"
    },
    "hidden": true
   },
   "outputs": [],
   "source": [
    "XtrainLR=pd.get_dummies(Xtrain,columns=['feature_1','feature_2','feature_3'],drop_first=True);XtrainLR"
   ]
  },
  {
   "cell_type": "code",
   "execution_count": null,
   "metadata": {
    "ExecuteTime": {
     "end_time": "2019-03-16T17:53:28.533239Z",
     "start_time": "2019-03-16T17:53:28.387198Z"
    },
    "hidden": true
   },
   "outputs": [],
   "source": [
    "XvalLR=pd.get_dummies(Xval, columns=['feature_1','feature_2','feature_3'],drop_first=True);XvalLR"
   ]
  },
  {
   "cell_type": "code",
   "execution_count": null,
   "metadata": {
    "ExecuteTime": {
     "end_time": "2019-03-16T17:53:28.766766Z",
     "start_time": "2019-03-16T17:53:28.538188Z"
    },
    "hidden": true
   },
   "outputs": [],
   "source": [
    "XtestLR=pd.get_dummies(Xtest,columns=['feature_1','feature_2','feature_3'],drop_first=True);XtestLR"
   ]
  },
  {
   "cell_type": "markdown",
   "metadata": {
    "heading_collapsed": true,
    "hidden": true
   },
   "source": [
    "#### Fitting model"
   ]
  },
  {
   "cell_type": "code",
   "execution_count": 25,
   "metadata": {
    "ExecuteTime": {
     "end_time": "2019-03-16T15:50:54.347506Z",
     "start_time": "2019-03-16T15:50:54.331883Z"
    },
    "hidden": true
   },
   "outputs": [],
   "source": [
    "LR=LinearRegression(n_jobs=-1)"
   ]
  },
  {
   "cell_type": "code",
   "execution_count": 26,
   "metadata": {
    "ExecuteTime": {
     "end_time": "2019-03-16T15:50:56.128431Z",
     "start_time": "2019-03-16T15:50:54.347506Z"
    },
    "hidden": true
   },
   "outputs": [],
   "source": [
    "model=LR.fit(XtrainLR,Ytrain)"
   ]
  },
  {
   "cell_type": "code",
   "execution_count": 27,
   "metadata": {
    "ExecuteTime": {
     "end_time": "2019-03-16T15:50:56.366673Z",
     "start_time": "2019-03-16T15:50:56.128431Z"
    },
    "hidden": true
   },
   "outputs": [],
   "source": [
    "Ypred=LR.predict(XvalLR)"
   ]
  },
  {
   "cell_type": "markdown",
   "metadata": {
    "heading_collapsed": true,
    "hidden": true
   },
   "source": [
    "#### RMSE of val set"
   ]
  },
  {
   "cell_type": "code",
   "execution_count": 28,
   "metadata": {
    "ExecuteTime": {
     "end_time": "2019-03-16T15:51:03.455071Z",
     "start_time": "2019-03-16T15:51:03.439446Z"
    },
    "hidden": true
   },
   "outputs": [
    {
     "data": {
      "text/plain": [
       "1.6704172723870974"
      ]
     },
     "execution_count": 28,
     "metadata": {},
     "output_type": "execute_result"
    }
   ],
   "source": [
    "# RMSE 1st Check\n",
    "MSE=mean_squared_error(Yval,Ypred)\n",
    "RMSE=sqrt(MSE);RMSE"
   ]
  },
  {
   "cell_type": "markdown",
   "metadata": {
    "heading_collapsed": true,
    "hidden": true
   },
   "source": [
    "#### RMSE of test set"
   ]
  },
  {
   "cell_type": "code",
   "execution_count": 29,
   "metadata": {
    "ExecuteTime": {
     "end_time": "2019-03-16T15:51:51.553256Z",
     "start_time": "2019-03-16T15:51:51.490770Z"
    },
    "hidden": true
   },
   "outputs": [],
   "source": [
    "Ypred=LR.predict(XtestLR)"
   ]
  },
  {
   "cell_type": "code",
   "execution_count": null,
   "metadata": {
    "ExecuteTime": {
     "end_time": "2019-03-16T15:51:52.146962Z",
     "start_time": "2019-03-16T15:51:51.553256Z"
    },
    "hidden": true
   },
   "outputs": [],
   "source": [
    "Ypred=pd.Series(Ypred);Ypred.to_csv('Ypred.csv')"
   ]
  },
  {
   "cell_type": "markdown",
   "metadata": {
    "hidden": true
   },
   "source": [
    "__RMSE Test Set 1st Check: 3.94779__"
   ]
  },
  {
   "cell_type": "markdown",
   "metadata": {
    "heading_collapsed": true
   },
   "source": [
    "### Applying NN"
   ]
  },
  {
   "cell_type": "code",
   "execution_count": 42,
   "metadata": {
    "ExecuteTime": {
     "end_time": "2019-03-16T16:45:28.520429Z",
     "start_time": "2019-03-16T16:44:23.816722Z"
    },
    "collapsed": true,
    "hidden": true
   },
   "outputs": [
    {
     "name": "stdout",
     "output_type": "stream",
     "text": [
      "Epoch 1/100\n",
      "159684/159684 [==============================] - 1s 8us/step - loss: 30316.2305 - mean_squared_error: 30316.2305\n",
      "Epoch 2/100\n",
      "159684/159684 [==============================] - 1s 4us/step - loss: 684.7337 - mean_squared_error: 684.7337\n",
      "Epoch 3/100\n",
      "159684/159684 [==============================] - 1s 4us/step - loss: 176.3462 - mean_squared_error: 176.3462\n",
      "Epoch 4/100\n",
      "159684/159684 [==============================] - 1s 4us/step - loss: 77.8561 - mean_squared_error: 77.8561\n",
      "Epoch 5/100\n",
      "159684/159684 [==============================] - 1s 3us/step - loss: 49.4828 - mean_squared_error: 49.4828\n",
      "Epoch 6/100\n",
      "159684/159684 [==============================] - 1s 3us/step - loss: 36.3288 - mean_squared_error: 36.3288\n",
      "Epoch 7/100\n",
      "159684/159684 [==============================] - 1s 3us/step - loss: 31.7011 - mean_squared_error: 31.7011\n",
      "Epoch 8/100\n",
      "159684/159684 [==============================] - 1s 3us/step - loss: 27.5002 - mean_squared_error: 27.5002\n",
      "Epoch 9/100\n",
      "159684/159684 [==============================] - 1s 3us/step - loss: 23.8506 - mean_squared_error: 23.8506\n",
      "Epoch 10/100\n",
      "159684/159684 [==============================] - 1s 3us/step - loss: 21.5797 - mean_squared_error: 21.5797\n",
      "Epoch 11/100\n",
      "159684/159684 [==============================] - 1s 3us/step - loss: 19.1600 - mean_squared_error: 19.1600\n",
      "Epoch 12/100\n",
      "159684/159684 [==============================] - 1s 3us/step - loss: 17.1666 - mean_squared_error: 17.1666\n",
      "Epoch 13/100\n",
      "159684/159684 [==============================] - 1s 3us/step - loss: 15.5490 - mean_squared_error: 15.5490\n",
      "Epoch 14/100\n",
      "159684/159684 [==============================] - 1s 3us/step - loss: 15.0623 - mean_squared_error: 15.0623\n",
      "Epoch 15/100\n",
      "159684/159684 [==============================] - 1s 3us/step - loss: 14.1953 - mean_squared_error: 14.1953\n",
      "Epoch 16/100\n",
      "159684/159684 [==============================] - 1s 3us/step - loss: 13.7895 - mean_squared_error: 13.7895\n",
      "Epoch 17/100\n",
      "159684/159684 [==============================] - 1s 3us/step - loss: 12.6270 - mean_squared_error: 12.6270\n",
      "Epoch 18/100\n",
      "159684/159684 [==============================] - 1s 3us/step - loss: 12.1250 - mean_squared_error: 12.1250\n",
      "Epoch 19/100\n",
      "159684/159684 [==============================] - 1s 4us/step - loss: 12.0200 - mean_squared_error: 12.0200\n",
      "Epoch 20/100\n",
      "159684/159684 [==============================] - 1s 3us/step - loss: 12.0312 - mean_squared_error: 12.0312\n",
      "Epoch 21/100\n",
      "159684/159684 [==============================] - 1s 3us/step - loss: 11.1365 - mean_squared_error: 11.1365\n",
      "Epoch 22/100\n",
      "159684/159684 [==============================] - 1s 3us/step - loss: 11.0727 - mean_squared_error: 11.0727\n",
      "Epoch 23/100\n",
      "159684/159684 [==============================] - 1s 4us/step - loss: 10.1856 - mean_squared_error: 10.18560s - loss: 9.5605 - mean_squared_e\n",
      "Epoch 24/100\n",
      "159684/159684 [==============================] - 1s 4us/step - loss: 11.6107 - mean_squared_error: 11.6107\n",
      "Epoch 25/100\n",
      "159684/159684 [==============================] - 1s 4us/step - loss: 11.9205 - mean_squared_error: 11.9205\n",
      "Epoch 26/100\n",
      "159684/159684 [==============================] - 1s 4us/step - loss: 12.7521 - mean_squared_error: 12.7521\n",
      "Epoch 27/100\n",
      "159684/159684 [==============================] - 1s 4us/step - loss: 9.6466 - mean_squared_error: 9.6466\n",
      "Epoch 28/100\n",
      "159684/159684 [==============================] - 1s 4us/step - loss: 8.5510 - mean_squared_error: 8.5510\n",
      "Epoch 29/100\n",
      "159684/159684 [==============================] - 1s 4us/step - loss: 8.2009 - mean_squared_error: 8.2009\n",
      "Epoch 30/100\n",
      "159684/159684 [==============================] - 1s 4us/step - loss: 8.0966 - mean_squared_error: 8.0966\n",
      "Epoch 31/100\n",
      "159684/159684 [==============================] - 1s 3us/step - loss: 8.9680 - mean_squared_error: 8.9680\n",
      "Epoch 32/100\n",
      "159684/159684 [==============================] - 1s 4us/step - loss: 22.9354 - mean_squared_error: 22.9354\n",
      "Epoch 33/100\n",
      "159684/159684 [==============================] - 1s 3us/step - loss: 18.8688 - mean_squared_error: 18.8688\n",
      "Epoch 34/100\n",
      "159684/159684 [==============================] - 1s 4us/step - loss: 13.5684 - mean_squared_error: 13.5684\n",
      "Epoch 35/100\n",
      "159684/159684 [==============================] - 1s 3us/step - loss: 8.5980 - mean_squared_error: 8.5980\n",
      "Epoch 36/100\n",
      "159684/159684 [==============================] - 1s 3us/step - loss: 9.5244 - mean_squared_error: 9.5244\n",
      "Epoch 37/100\n",
      "159684/159684 [==============================] - 1s 4us/step - loss: 7.5536 - mean_squared_error: 7.5536\n",
      "Epoch 38/100\n",
      "159684/159684 [==============================] - 1s 4us/step - loss: 6.6820 - mean_squared_error: 6.6820\n",
      "Epoch 39/100\n",
      "159684/159684 [==============================] - 1s 3us/step - loss: 6.5643 - mean_squared_error: 6.5643\n",
      "Epoch 40/100\n",
      "159684/159684 [==============================] - 1s 3us/step - loss: 6.5020 - mean_squared_error: 6.5020\n",
      "Epoch 41/100\n",
      "159684/159684 [==============================] - 1s 3us/step - loss: 6.3171 - mean_squared_error: 6.3171\n",
      "Epoch 42/100\n",
      "159684/159684 [==============================] - 1s 3us/step - loss: 6.1279 - mean_squared_error: 6.1279\n",
      "Epoch 43/100\n",
      "159684/159684 [==============================] - 1s 3us/step - loss: 6.0834 - mean_squared_error: 6.0834\n",
      "Epoch 44/100\n",
      "159684/159684 [==============================] - 1s 4us/step - loss: 5.9734 - mean_squared_error: 5.9734\n",
      "Epoch 45/100\n",
      "159684/159684 [==============================] - 1s 4us/step - loss: 5.9217 - mean_squared_error: 5.9217\n",
      "Epoch 46/100\n",
      "159684/159684 [==============================] - 1s 4us/step - loss: 5.8080 - mean_squared_error: 5.8080\n",
      "Epoch 47/100\n",
      "159684/159684 [==============================] - 1s 4us/step - loss: 5.7844 - mean_squared_error: 5.7844\n",
      "Epoch 48/100\n",
      "159684/159684 [==============================] - 1s 4us/step - loss: 5.7052 - mean_squared_error: 5.7052\n",
      "Epoch 49/100\n",
      "159684/159684 [==============================] - 1s 4us/step - loss: 5.6263 - mean_squared_error: 5.6263\n",
      "Epoch 50/100\n",
      "159684/159684 [==============================] - 1s 4us/step - loss: 5.5726 - mean_squared_error: 5.5726\n",
      "Epoch 51/100\n",
      "159684/159684 [==============================] - 1s 3us/step - loss: 5.4174 - mean_squared_error: 5.4174\n",
      "Epoch 52/100\n",
      "159684/159684 [==============================] - 1s 3us/step - loss: 5.4565 - mean_squared_error: 5.4565\n",
      "Epoch 53/100\n",
      "159684/159684 [==============================] - 1s 3us/step - loss: 5.3703 - mean_squared_error: 5.3703\n",
      "Epoch 54/100\n",
      "159684/159684 [==============================] - 1s 3us/step - loss: 5.3393 - mean_squared_error: 5.3393\n",
      "Epoch 55/100\n",
      "159684/159684 [==============================] - 1s 4us/step - loss: 5.9769 - mean_squared_error: 5.9769\n",
      "Epoch 56/100\n",
      "159684/159684 [==============================] - 1s 4us/step - loss: 5.4721 - mean_squared_error: 5.4721\n",
      "Epoch 57/100\n",
      "159684/159684 [==============================] - 1s 4us/step - loss: 5.6012 - mean_squared_error: 5.6012\n",
      "Epoch 58/100\n",
      "159684/159684 [==============================] - 1s 4us/step - loss: 5.8234 - mean_squared_error: 5.8234\n",
      "Epoch 59/100\n",
      "159684/159684 [==============================] - 1s 4us/step - loss: 6.4752 - mean_squared_error: 6.4752\n",
      "Epoch 60/100\n",
      "159684/159684 [==============================] - 1s 4us/step - loss: 8.7781 - mean_squared_error: 8.7781\n",
      "Epoch 61/100\n",
      "159684/159684 [==============================] - 1s 4us/step - loss: 18.1280 - mean_squared_error: 18.1280\n",
      "Epoch 62/100\n",
      "159684/159684 [==============================] - 1s 4us/step - loss: 9.4726 - mean_squared_error: 9.4726\n",
      "Epoch 63/100\n",
      "159684/159684 [==============================] - 1s 4us/step - loss: 6.3131 - mean_squared_error: 6.3131\n",
      "Epoch 64/100\n",
      "159684/159684 [==============================] - 1s 4us/step - loss: 5.5974 - mean_squared_error: 5.5974\n",
      "Epoch 65/100\n",
      "159684/159684 [==============================] - 1s 4us/step - loss: 5.3432 - mean_squared_error: 5.3432\n",
      "Epoch 66/100\n",
      "159684/159684 [==============================] - 1s 4us/step - loss: 4.9862 - mean_squared_error: 4.9862\n",
      "Epoch 67/100\n",
      "159684/159684 [==============================] - 1s 4us/step - loss: 5.9438 - mean_squared_error: 5.9438\n",
      "Epoch 68/100\n",
      "159684/159684 [==============================] - 1s 4us/step - loss: 5.6760 - mean_squared_error: 5.6760\n",
      "Epoch 69/100\n",
      "159684/159684 [==============================] - 1s 4us/step - loss: 7.3865 - mean_squared_error: 7.3865\n",
      "Epoch 70/100\n",
      "159684/159684 [==============================] - 1s 4us/step - loss: 6.1407 - mean_squared_error: 6.1407\n",
      "Epoch 71/100\n",
      "159684/159684 [==============================] - 1s 4us/step - loss: 8.2872 - mean_squared_error: 8.2872\n",
      "Epoch 72/100\n",
      "159684/159684 [==============================] - 1s 3us/step - loss: 10.7045 - mean_squared_error: 10.7045\n",
      "Epoch 73/100\n",
      "159684/159684 [==============================] - 1s 3us/step - loss: 6.1987 - mean_squared_error: 6.1987\n",
      "Epoch 74/100\n",
      "159684/159684 [==============================] - 1s 4us/step - loss: 5.1421 - mean_squared_error: 5.1421\n",
      "Epoch 75/100\n",
      "159684/159684 [==============================] - 1s 4us/step - loss: 4.8079 - mean_squared_error: 4.8079\n",
      "Epoch 76/100\n",
      "159684/159684 [==============================] - 1s 4us/step - loss: 4.7044 - mean_squared_error: 4.7044\n",
      "Epoch 77/100\n",
      "159684/159684 [==============================] - 1s 4us/step - loss: 4.6599 - mean_squared_error: 4.6599\n",
      "Epoch 78/100\n",
      "159684/159684 [==============================] - 1s 4us/step - loss: 4.6446 - mean_squared_error: 4.6446\n",
      "Epoch 79/100\n",
      "159684/159684 [==============================] - 1s 3us/step - loss: 5.1134 - mean_squared_error: 5.1134\n",
      "Epoch 80/100\n",
      "159684/159684 [==============================] - 1s 4us/step - loss: 6.1161 - mean_squared_error: 6.1161\n",
      "Epoch 81/100\n",
      "159684/159684 [==============================] - 1s 4us/step - loss: 6.8106 - mean_squared_error: 6.8106\n",
      "Epoch 82/100\n",
      "159684/159684 [==============================] - 1s 3us/step - loss: 15.9782 - mean_squared_error: 15.9782\n",
      "Epoch 83/100\n",
      "159684/159684 [==============================] - 1s 4us/step - loss: 84.0030 - mean_squared_error: 84.0030\n",
      "Epoch 84/100\n",
      "159684/159684 [==============================] - 1s 4us/step - loss: 31.9158 - mean_squared_error: 31.9158\n",
      "Epoch 85/100\n",
      "159684/159684 [==============================] - 1s 4us/step - loss: 93.8131 - mean_squared_error: 93.8131\n",
      "Epoch 86/100\n",
      "159684/159684 [==============================] - 1s 3us/step - loss: 43.6054 - mean_squared_error: 43.6054\n",
      "Epoch 87/100\n",
      "159684/159684 [==============================] - 1s 4us/step - loss: 15.7215 - mean_squared_error: 15.7215\n",
      "Epoch 88/100\n",
      "159684/159684 [==============================] - 1s 4us/step - loss: 10.5802 - mean_squared_error: 10.5802\n",
      "Epoch 89/100\n",
      "159684/159684 [==============================] - 1s 4us/step - loss: 7.8052 - mean_squared_error: 7.8052\n",
      "Epoch 90/100\n",
      "159684/159684 [==============================] - 1s 4us/step - loss: 7.3928 - mean_squared_error: 7.3928\n",
      "Epoch 91/100\n",
      "159684/159684 [==============================] - 1s 4us/step - loss: 7.2051 - mean_squared_error: 7.2051\n",
      "Epoch 92/100\n",
      "159684/159684 [==============================] - 1s 4us/step - loss: 6.8717 - mean_squared_error: 6.8717\n",
      "Epoch 93/100\n",
      "159684/159684 [==============================] - 1s 4us/step - loss: 6.5854 - mean_squared_error: 6.5854\n",
      "Epoch 94/100\n",
      "159684/159684 [==============================] - 1s 4us/step - loss: 6.6129 - mean_squared_error: 6.6129\n",
      "Epoch 95/100\n",
      "159684/159684 [==============================] - 1s 5us/step - loss: 7.9819 - mean_squared_error: 7.9819\n",
      "Epoch 96/100\n",
      "159684/159684 [==============================] - 1s 4us/step - loss: 10.1071 - mean_squared_error: 10.1071\n",
      "Epoch 97/100\n",
      "159684/159684 [==============================] - 1s 4us/step - loss: 6.4202 - mean_squared_error: 6.4202\n",
      "Epoch 98/100\n",
      "159684/159684 [==============================] - 1s 4us/step - loss: 6.1502 - mean_squared_error: 6.1502\n",
      "Epoch 99/100\n",
      "159684/159684 [==============================] - 1s 4us/step - loss: 7.7194 - mean_squared_error: 7.7194\n",
      "Epoch 100/100\n",
      "159684/159684 [==============================] - 1s 4us/step - loss: 6.9801 - mean_squared_error: 6.9801\n",
      "159684/159684 [==============================] - 5s 32us/step\n",
      "\n",
      "mean_squared_error: 588.18%\n"
     ]
    }
   ],
   "source": [
    "# introduces randomness. \n",
    "# fix random seed for reproducibility\n",
    "np.random.seed(7)\n",
    "# load pima indians dataset\n",
    "\n",
    "# split into input (X) and output (Y) variables\n",
    "# X = dataset[:,0:8]\n",
    "# Y = dataset[:,8]\n",
    "# create model\n",
    "model = Sequential()\n",
    "model.add(Dense(100, input_dim=27, activation='relu'))\n",
    "model.add(Dense(50, activation='relu'))\n",
    "model.add(Dense(40, activation='relu'))\n",
    "model.add(Dense(30, activation='relu'))\n",
    "model.add(Dense(20, activation='relu'))\n",
    "model.add(Dense(1))\n",
    "# Compile model\n",
    "model.compile(loss='mse', optimizer='adam', metrics=['mse']) #metrics should be diff becuase of skewed dataset\n",
    "# Fit the model\n",
    "model.fit(XtrainLR, Ytrain, epochs=100, batch_size=10000)\n",
    "# evaluate the model\n",
    "scores = model.evaluate(XtrainLR, Ytrain)\n",
    "print(\"\\n%s: %.2f%%\" % (model.metrics_names[1], scores[1]*100))\n",
    "\n",
    "Ypred=model.predict(XvalLR)\n",
    "\n",
    "# RMSE 1st Check\n",
    "MSE=mean_squared_error(Yval,Ypred)\n",
    "RMSE=sqrt(MSE);RMSE"
   ]
  },
  {
   "cell_type": "markdown",
   "metadata": {
    "heading_collapsed": true,
    "hidden": true
   },
   "source": [
    "#### RMSE of test set"
   ]
  },
  {
   "cell_type": "code",
   "execution_count": 45,
   "metadata": {
    "ExecuteTime": {
     "end_time": "2019-03-16T16:50:39.865894Z",
     "start_time": "2019-03-16T16:50:37.538588Z"
    },
    "hidden": true
   },
   "outputs": [],
   "source": [
    "Ypred=model.predict(XtestLR)\n",
    "\n",
    "Ypred=pd.DataFrame(Ypred);Ypred.to_csv('Ypred.csv')"
   ]
  },
  {
   "cell_type": "markdown",
   "metadata": {
    "hidden": true
   },
   "source": [
    "__RMSE Test Set 1st Check: 3.95983__"
   ]
  },
  {
   "cell_type": "markdown",
   "metadata": {
    "hidden": true
   },
   "source": [
    "__RMSE Test Set 2nd Check: 16.26424__"
   ]
  },
  {
   "cell_type": "markdown",
   "metadata": {
    "hidden": true
   },
   "source": [
    "__RMSE Test Set 3rd Check: 5.92523__"
   ]
  },
  {
   "cell_type": "markdown",
   "metadata": {
    "hidden": true
   },
   "source": [
    "__RMSE Test Set 4th Check: 5.61297__"
   ]
  },
  {
   "cell_type": "markdown",
   "metadata": {
    "heading_collapsed": true
   },
   "source": [
    "### Exporting Data"
   ]
  },
  {
   "cell_type": "code",
   "execution_count": 7,
   "metadata": {
    "ExecuteTime": {
     "end_time": "2019-03-16T17:58:22.201753Z",
     "start_time": "2019-03-16T17:58:22.025685Z"
    },
    "hidden": true
   },
   "outputs": [],
   "source": [
    "Xtrain.to_pickle('XtrainRFM16');Xval.to_pickle('XvalRFM16');Xtest.to_pickle('XtestRFM16')\n",
    "\n",
    "XtrainLR.to_pickle('XtrainLRM16');XvalLR.to_pickle('XvalLRM16');XtestLR.to_pickle('XtestLRM16')\n",
    "\n",
    "Ytrain.to_pickle('YtrainRFM16');Yval.to_pickle('YvalRFM16')"
   ]
  }
 ],
 "metadata": {
  "kernelspec": {
   "display_name": "Python 3",
   "language": "python",
   "name": "python3"
  },
  "language_info": {
   "codemirror_mode": {
    "name": "ipython",
    "version": 3
   },
   "file_extension": ".py",
   "mimetype": "text/x-python",
   "name": "python",
   "nbconvert_exporter": "python",
   "pygments_lexer": "ipython3",
   "version": "3.6.8"
  },
  "toc": {
   "base_numbering": 1,
   "nav_menu": {},
   "number_sections": true,
   "sideBar": true,
   "skip_h1_title": false,
   "title_cell": "Table of Contents",
   "title_sidebar": "Contents",
   "toc_cell": false,
   "toc_position": {},
   "toc_section_display": true,
   "toc_window_display": false
  }
 },
 "nbformat": 4,
 "nbformat_minor": 2
}
