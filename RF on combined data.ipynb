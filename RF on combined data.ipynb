{
 "cells": [
  {
   "cell_type": "markdown",
   "metadata": {},
   "source": [
    "### Importing Libs & Data"
   ]
  },
  {
   "cell_type": "code",
   "execution_count": null,
   "metadata": {
    "ExecuteTime": {
     "end_time": "2019-03-20T00:00:46.540153Z",
     "start_time": "2019-03-20T00:00:41.291587Z"
    }
   },
   "outputs": [],
   "source": [
    "import pandas as pd\n",
    "import numpy as np\n",
    "from sklearn.ensemble import RandomForestRegressor\n",
    "from scipy.stats import spearmanr\n",
    "from scipy.cluster import hierarchy as hc\n",
    "import matplotlib.pyplot as plt\n",
    "from sklearn.metrics import mean_squared_error\n",
    "from math import sqrt\n",
    "import seaborn as sns"
   ]
  },
  {
   "cell_type": "code",
   "execution_count": null,
   "metadata": {},
   "outputs": [],
   "source": [
    "Train=pd.read_pickle('TrainAgg'); Test=pd.read_pickle('TestAgg')"
   ]
  },
  {
   "cell_type": "markdown",
   "metadata": {},
   "source": [
    "### Splitting X & Y"
   ]
  },
  {
   "cell_type": "code",
   "execution_count": null,
   "metadata": {},
   "outputs": [],
   "source": [
    "X=Train.loc[:,Train.columns!='target']; Y=Train.loc[:,'target']"
   ]
  },
  {
   "cell_type": "markdown",
   "metadata": {},
   "source": [
    "### Fixing issues with X"
   ]
  },
  {
   "cell_type": "markdown",
   "metadata": {},
   "source": [
    "This was just to remove time stamps from the dates and convert the TimeSpent feature to an integer"
   ]
  },
  {
   "cell_type": "code",
   "execution_count": null,
   "metadata": {},
   "outputs": [],
   "source": [
    "X.first_active_month = pd.to_datetime(X.first_active_month)\n",
    "\n",
    "X.first_active_month = X.first_active_month.dt.date\n",
    "\n",
    "X.first_active_month.describe()\n",
    "\n",
    "X.LatestPurDate = pd.to_datetime(X.LatestPurDate)\n",
    "\n",
    "X.LatestPurDate = X.LatestPurDate.dt.date\n",
    "\n",
    "X.LatestPurDate.describe()\n",
    "\n",
    "X.drop('card_id',axis=1,inplace=True)\n",
    "\n",
    "X.TimeSpent=X.TimeSpent.dt.days;X.TimeSpent"
   ]
  },
  {
   "cell_type": "code",
   "execution_count": null,
   "metadata": {},
   "outputs": [],
   "source": [
    "# Turning dates into Categories\n",
    "\n",
    "X.first_active_month=X.first_active_month.astype('category')\n",
    "\n",
    "X.first_active_month=X.first_active_month.cat.codes\n",
    "\n",
    "X.LatestPurDate=X.LatestPurDate.astype('category')\n",
    "\n",
    "X.LatestPurDate=X.LatestPurDate.cat.codes"
   ]
  },
  {
   "cell_type": "code",
   "execution_count": null,
   "metadata": {},
   "outputs": [],
   "source": [
    "X.feature_1=X.feature_1.astype('category');X.feature_2=X.feature_2.astype('category');X.feature_3=X.feature_3.astype('category');X.dtypes\n",
    "\n",
    "X.drop(labels=['LatestPurDate','first_active_month'], axis=1, inplace=True)"
   ]
  },
  {
   "cell_type": "markdown",
   "metadata": {},
   "source": [
    "### Applying Random Forest"
   ]
  },
  {
   "cell_type": "code",
   "execution_count": null,
   "metadata": {},
   "outputs": [],
   "source": [
    "RF=RandomForestRegressor(n_estimators=100, n_jobs=-1, max_features=0.5, verbose=True, oob_score=True)\n",
    "\n",
    "RFmodel=RF.fit(X,Y)\n",
    "\n",
    "RF.oob_score_"
   ]
  },
  {
   "cell_type": "markdown",
   "metadata": {
    "heading_collapsed": true
   },
   "source": [
    "#### Feature Importance"
   ]
  },
  {
   "cell_type": "code",
   "execution_count": null,
   "metadata": {
    "hidden": true
   },
   "outputs": [],
   "source": [
    "FI = RF.feature_importances_\n",
    "FI=pd.Series(FI,index=X.columns).sort_values(ascending=False);FI"
   ]
  },
  {
   "cell_type": "markdown",
   "metadata": {},
   "source": [
    "### Preparing test set"
   ]
  },
  {
   "cell_type": "code",
   "execution_count": null,
   "metadata": {},
   "outputs": [],
   "source": [
    "Xtest=Test\n",
    "\n",
    "Xtest.drop(labels=['first_active_month','card_id','LatestPurDate'],axis=1,inplace=True)\n",
    "\n",
    "Xtest.TimeSpent=Xtest.TimeSpent.dt.days\n",
    "\n",
    "Xtest.feature_1=Xtest.feature_1.astype('category');Xtest.feature_2=Xtest.feature_2.astype('category');Xtest.feature_3=Xtest.feature_3.astype('category')\n",
    "\n",
    "Xtest.TimeSpent = Xtest.TimeSpent.replace(to_replace=np.nan,value=0)\n",
    "\n",
    "Xtest.CLV = Xtest.CLV.replace(to_replace=np.nan,value=0)\n",
    "\n",
    "Xtest.CLV = Xtest.CLV.replace(to_replace=[np.inf,-np.inf],value=0)"
   ]
  },
  {
   "cell_type": "markdown",
   "metadata": {},
   "source": [
    "### Predicting on Xtest"
   ]
  },
  {
   "cell_type": "code",
   "execution_count": null,
   "metadata": {},
   "outputs": [],
   "source": [
    "Ypred=RF.predict(Xtest)\n",
    "\n",
    "Ypred = pd.Series(Ypred)\n",
    "\n",
    "Ypred.to_csv('Ypred.csv')\n",
    "\n",
    "Ypred.head()"
   ]
  },
  {
   "cell_type": "markdown",
   "metadata": {},
   "source": [
    "### Exporting X & Xtest for future use"
   ]
  },
  {
   "cell_type": "code",
   "execution_count": null,
   "metadata": {},
   "outputs": [],
   "source": [
    "X.to_pickle('XtrainLatest'); Y.to_pickle('YtrainLatest'); Xtest.to_pickle('XtestLatest')"
   ]
  },
  {
   "cell_type": "markdown",
   "metadata": {},
   "source": [
    "### Checking correlation"
   ]
  },
  {
   "cell_type": "code",
   "execution_count": null,
   "metadata": {
    "scrolled": true
   },
   "outputs": [],
   "source": [
    "corr = np.round(spearmanr(X).correlation, 4)\n",
    "corr_condensed = hc.distance.squareform(1-corr)\n",
    "z = hc.linkage(corr_condensed, method='average')\n",
    "fig = plt.figure(figsize=(16,10))\n",
    "dendrogram = hc.dendrogram(z, labels=X.columns, orientation='left', leaf_font_size=16)\n",
    "plt.show()"
   ]
  },
  {
   "cell_type": "markdown",
   "metadata": {},
   "source": [
    "### Removing collinearity"
   ]
  },
  {
   "cell_type": "code",
   "execution_count": null,
   "metadata": {},
   "outputs": [],
   "source": [
    "X.drop(labels=['Cat3TotB'],axis=1,inplace=True)\n",
    "\n",
    "Xtrain2 = Xtrain.loc[:, ['AvgPurAmt','CLV','TimeSpent','purchase_amount']]"
   ]
  },
  {
   "cell_type": "markdown",
   "metadata": {},
   "source": [
    "### RF again after removing collinearity & unimportant features"
   ]
  },
  {
   "cell_type": "code",
   "execution_count": null,
   "metadata": {},
   "outputs": [],
   "source": [
    "RF=RandomForestRegressor(n_estimators=250, n_jobs=-1, max_features='log2', verbose=True, oob_score=True)\n",
    "\n",
    "RFmodel=RF.fit(Xtrain2,Ytrain)\n",
    "\n",
    "RF.oob_score_\n",
    "\n",
    "Ypred = RF.predict(Xtrain2)\n",
    "\n",
    "Ypred.shape\n",
    "\n",
    "MSE=mean_squared_error(Ytrain,Ypred)\n",
    "RMSE=sqrt(MSE);RMSE"
   ]
  },
  {
   "cell_type": "markdown",
   "metadata": {},
   "source": [
    "#### Feature Importance"
   ]
  },
  {
   "cell_type": "code",
   "execution_count": null,
   "metadata": {},
   "outputs": [],
   "source": [
    "FI = RF.feature_importances_\n",
    "FI=pd.Series(FI,index=Xtrain2.columns).sort_values(ascending=False);FI"
   ]
  }
 ],
 "metadata": {
  "kernelspec": {
   "display_name": "Python 3",
   "language": "python",
   "name": "python3"
  },
  "language_info": {
   "codemirror_mode": {
    "name": "ipython",
    "version": 3
   },
   "file_extension": ".py",
   "mimetype": "text/x-python",
   "name": "python",
   "nbconvert_exporter": "python",
   "pygments_lexer": "ipython3",
   "version": "3.6.8"
  },
  "toc": {
   "base_numbering": 1,
   "nav_menu": {},
   "number_sections": true,
   "sideBar": true,
   "skip_h1_title": false,
   "title_cell": "Table of Contents",
   "title_sidebar": "Contents",
   "toc_cell": false,
   "toc_position": {},
   "toc_section_display": true,
   "toc_window_display": false
  }
 },
 "nbformat": 4,
 "nbformat_minor": 2
}
