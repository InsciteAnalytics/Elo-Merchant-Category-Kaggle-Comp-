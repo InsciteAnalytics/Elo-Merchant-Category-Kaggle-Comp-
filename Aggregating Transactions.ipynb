{
 "cells": [
  {
   "cell_type": "markdown",
   "metadata": {},
   "source": [
    "### Guide to the notebook \n",
    "\n",
    "__DFs involved here:__ \n",
    "- __Train:__ The basic training set with 4 features\n",
    "- __FullTrain:__ Complete set of transactions made by the customers in the training set.\n",
    "\n",
    "__The notebook in a nutshell:__ All that is happening here is two primary steps: First I make an aggregation using FullTrain (set of transactions). Then add the aggregated column to Train (the basic training set). This would create an aggregated training set to which I will add aggregated merchant data later."
   ]
  },
  {
   "cell_type": "markdown",
   "metadata": {
    "heading_collapsed": true
   },
   "source": [
    "### Importing Libs & Data"
   ]
  },
  {
   "cell_type": "code",
   "execution_count": 1,
   "metadata": {
    "ExecuteTime": {
     "end_time": "2019-04-04T18:11:04.174991Z",
     "start_time": "2019-04-04T18:10:42.919302Z"
    },
    "hidden": true
   },
   "outputs": [],
   "source": [
    "import pandas as pd\n",
    "import numpy as np"
   ]
  },
  {
   "cell_type": "markdown",
   "metadata": {
    "hidden": true
   },
   "source": [
    "The cell below just imports the relevant DFs. Drops the training set features from the FullTrain DF as they are redundant. A copy of transactions DF is created. All transactions that were not approved are dropped (this improved results)."
   ]
  },
  {
   "cell_type": "code",
   "execution_count": 2,
   "metadata": {
    "hidden": true
   },
   "outputs": [
    {
     "name": "stdout",
     "output_type": "stream",
     "text": [
      "CPU times: user 2.66 s, sys: 1.76 s, total: 4.42 s\n",
      "Wall time: 18.9 s\n"
     ]
    }
   ],
   "source": [
    "%%time \n",
    "Train=pd.read_csv('train.csv'); FullTrain=pd.read_pickle('FullTrain')\n",
    "\n",
    "FullTrainAgg=FullTrain.copy()\n",
    "\n",
    "FullTrainAgg.drop(['first_active_month','feature_1','feature_2','feature_3','target'],axis=1,inplace=True)\n",
    "\n",
    "FullTrainAgg = FullTrainAgg[FullTrainAgg.authorized_flag != 'N']"
   ]
  },
  {
   "cell_type": "markdown",
   "metadata": {
    "hidden": true
   },
   "source": [
    "__Plan to aggregate__\n",
    "\n",
    "1. Use the FullTrain df to apply the aggregations decided so far\n",
    "2. Create a copy of FullTrain and start on that"
   ]
  },
  {
   "cell_type": "markdown",
   "metadata": {
    "heading_collapsed": true
   },
   "source": [
    "### 1. Total number of transactions calculated and merged with Train"
   ]
  },
  {
   "cell_type": "markdown",
   "metadata": {
    "hidden": true
   },
   "source": [
    "I've added comments to the cell below, to explain the process. This has only been done for two instances. Since the steps in all aggregations are identical, its redundant to explain for all instances."
   ]
  },
  {
   "cell_type": "code",
   "execution_count": 10,
   "metadata": {
    "hidden": true
   },
   "outputs": [
    {
     "data": {
      "text/html": [
       "<div>\n",
       "<style scoped>\n",
       "    .dataframe tbody tr th:only-of-type {\n",
       "        vertical-align: middle;\n",
       "    }\n",
       "\n",
       "    .dataframe tbody tr th {\n",
       "        vertical-align: top;\n",
       "    }\n",
       "\n",
       "    .dataframe thead th {\n",
       "        text-align: right;\n",
       "    }\n",
       "</style>\n",
       "<table border=\"1\" class=\"dataframe\">\n",
       "  <thead>\n",
       "    <tr style=\"text-align: right;\">\n",
       "      <th></th>\n",
       "      <th>first_active_month</th>\n",
       "      <th>card_id</th>\n",
       "      <th>feature_1</th>\n",
       "      <th>feature_2</th>\n",
       "      <th>feature_3</th>\n",
       "      <th>target</th>\n",
       "      <th>TransTotNum</th>\n",
       "    </tr>\n",
       "  </thead>\n",
       "  <tbody>\n",
       "    <tr>\n",
       "      <th>0</th>\n",
       "      <td>2017-06</td>\n",
       "      <td>C_ID_92a2005557</td>\n",
       "      <td>5</td>\n",
       "      <td>2</td>\n",
       "      <td>1</td>\n",
       "      <td>-0.820283</td>\n",
       "      <td>275</td>\n",
       "    </tr>\n",
       "    <tr>\n",
       "      <th>1</th>\n",
       "      <td>2017-01</td>\n",
       "      <td>C_ID_3d0044924f</td>\n",
       "      <td>4</td>\n",
       "      <td>1</td>\n",
       "      <td>0</td>\n",
       "      <td>0.392913</td>\n",
       "      <td>360</td>\n",
       "    </tr>\n",
       "    <tr>\n",
       "      <th>2</th>\n",
       "      <td>2016-08</td>\n",
       "      <td>C_ID_d639edf6cd</td>\n",
       "      <td>2</td>\n",
       "      <td>2</td>\n",
       "      <td>0</td>\n",
       "      <td>0.688056</td>\n",
       "      <td>43</td>\n",
       "    </tr>\n",
       "    <tr>\n",
       "      <th>3</th>\n",
       "      <td>2017-09</td>\n",
       "      <td>C_ID_186d6a6901</td>\n",
       "      <td>4</td>\n",
       "      <td>3</td>\n",
       "      <td>0</td>\n",
       "      <td>0.142495</td>\n",
       "      <td>96</td>\n",
       "    </tr>\n",
       "    <tr>\n",
       "      <th>4</th>\n",
       "      <td>2017-11</td>\n",
       "      <td>C_ID_cdbd2c0db2</td>\n",
       "      <td>1</td>\n",
       "      <td>3</td>\n",
       "      <td>0</td>\n",
       "      <td>-0.159749</td>\n",
       "      <td>173</td>\n",
       "    </tr>\n",
       "  </tbody>\n",
       "</table>\n",
       "</div>"
      ],
      "text/plain": [
       "  first_active_month          card_id  feature_1  feature_2  feature_3  \\\n",
       "0            2017-06  C_ID_92a2005557          5          2          1   \n",
       "1            2017-01  C_ID_3d0044924f          4          1          0   \n",
       "2            2016-08  C_ID_d639edf6cd          2          2          0   \n",
       "3            2017-09  C_ID_186d6a6901          4          3          0   \n",
       "4            2017-11  C_ID_cdbd2c0db2          1          3          0   \n",
       "\n",
       "     target  TransTotNum  \n",
       "0 -0.820283          275  \n",
       "1  0.392913          360  \n",
       "2  0.688056           43  \n",
       "3  0.142495           96  \n",
       "4 -0.159749          173  "
      ]
     },
     "execution_count": 10,
     "metadata": {},
     "output_type": "execute_result"
    }
   ],
   "source": [
    "FullTrainAgg['card_id_2'] = FullTrainAgg['card_id'] # Creating an extra column for counting\n",
    "\n",
    "TotTransPerCard = FullTrainAgg[['card_id','card_id_2']] # Creating New DF containing only the feature to be aggregated\n",
    "\n",
    "TotTransPerCard = TotTransPerCard.groupby((['card_id'])).count() # Necessary aggregation performed\n",
    "\n",
    "Train=pd.merge(Train,TotTransPerCard,how='left',on='card_id') # Aggregated feature added to training set for later use\n",
    "\n",
    "Train=Train.rename({'card_id_2':'TransTotNum'},axis=1);Train.head() # New feature renamed for clarity"
   ]
  },
  {
   "cell_type": "markdown",
   "metadata": {
    "heading_collapsed": true
   },
   "source": [
    "### 2. Total Purchase amounts per customer, combined with Train as well"
   ]
  },
  {
   "cell_type": "code",
   "execution_count": null,
   "metadata": {
    "hidden": true
   },
   "outputs": [],
   "source": [
    "# Aggregating by purchase amounts of each card_id\n",
    "\n",
    "TotPurAmt = FullTrainAgg[['card_id','purchase_amount']] # Creating New DF containing only the feature to be aggregated\n",
    "\n",
    "TotPurAmt = TotPurAmt.groupby((['card_id'])).sum() # Performing necessary aggregation\n",
    "\n",
    "Train=pd.merge(Train,TotPurAmt,how='left',on='card_id') # Merging with training set for later use"
   ]
  },
  {
   "cell_type": "markdown",
   "metadata": {
    "heading_collapsed": true
   },
   "source": [
    "### 3. Aggregating approved Transactions"
   ]
  },
  {
   "cell_type": "code",
   "execution_count": 87,
   "metadata": {
    "collapsed": true,
    "hidden": true
   },
   "outputs": [],
   "source": [
    "# Aggregating by approved purchases of each card_id\n",
    "\n",
    "ApprTrans = FullTrainAgg[['card_id','authorized_flag']]\n",
    "\n",
    "ApprTrans = ApprTrans.groupby((['card_id'])).agg({'authorized_flag' : lambda x: (x=='Y').sum()})\n",
    "\n",
    "Train=pd.merge(Train,ApprTrans,how='left',on='card_id');Train\n",
    "\n",
    "Train.rename(mapper={'authorized_flag':'NumApprTrans'},axis=1,inplace=True)"
   ]
  },
  {
   "cell_type": "markdown",
   "metadata": {},
   "source": [
    "### 4. Total of each category in Transactions table"
   ]
  },
  {
   "cell_type": "code",
   "execution_count": null,
   "metadata": {},
   "outputs": [],
   "source": [
    "# category_1_x. Only totalling Y since it has only 2 cats\n",
    "\n",
    "Cat1Y = FullTrainAgg[['card_id','category_1_x']]\n",
    "\n",
    "Cat1Y = Cat1Y.groupby((['card_id'])).agg({'category_1_x' : lambda x: (x=='Y').sum()})\n",
    "\n",
    "Train=pd.merge(Train,Cat1Y,how='left',on='card_id');Train\n",
    "\n",
    "Train.rename(mapper={'category_1_x':'Cat_1_Y'},axis=1,inplace=True);Train"
   ]
  },
  {
   "cell_type": "code",
   "execution_count": 13,
   "metadata": {
    "collapsed": true
   },
   "outputs": [],
   "source": [
    "# Category 2 has 5 values so taking 1 to 4\n",
    "# Create seperate columns for ease of aggregation later\n",
    "\n",
    "FullTrainAgg['category_1_1']=FullTrainAgg['category_2_x']; FullTrainAgg['category_1_2']=FullTrainAgg['category_2_x']; FullTrainAgg['category_1_3']=FullTrainAgg['category_2_x']; FullTrainAgg['category_1_4']=FullTrainAgg['category_2_x'] \n",
    "\n",
    "Cat2Counts = FullTrainAgg[['card_id','category_1_1','category_1_2','category_1_3','category_1_4']]\n",
    "\n",
    "Cat2Counts = Cat2Counts.groupby((['card_id'])).agg({'category_1_1' : lambda x: (x.eq('1.00000000')).sum(),\\\n",
    "                                                    'category_1_2' : lambda x: (x.eq('2.00000000')).sum(),\\\n",
    "                                                   'category_1_3' : lambda x: (x.eq('3.00000000')).sum(),\\\n",
    "                                                   'category_1_4' : lambda x: (x.eq('4.00000000')).sum()})\n",
    "\n",
    "Train=pd.merge(Train, Cat2Counts, how='left', on='card_id')\n",
    "\n",
    "Train.rename(mapper={'category_1_1':'Cat2Tot1','category_1_2':'Cat2Tot2','category_1_3':'Cat2Tot3','category_1_4':'Cat2Tot4'},\\\n",
    "            axis=1, inplace=True)"
   ]
  },
  {
   "cell_type": "code",
   "execution_count": 14,
   "metadata": {
    "collapsed": true
   },
   "outputs": [],
   "source": [
    "# Category 3 has A,B and C so doing totals of A & B\n",
    "\n",
    "FullTrainAgg['category_3_A']=FullTrainAgg['category_3']; FullTrainAgg['category_3_B']=FullTrainAgg['category_3']\n",
    "\n",
    "Cat2Counts = FullTrainAgg[['card_id','category_3_A','category_3_B']]\n",
    "\n",
    "Cat2Counts = Cat2Counts.groupby((['card_id'])).agg({'category_3_A' : lambda x: (x=='A').sum(),\\\n",
    "                                                    'category_3_B' : lambda x: (x=='B').sum()})\n",
    "\n",
    "Train=pd.merge(Train, Cat2Counts, how='left', on='card_id')\n",
    "\n",
    "Train.rename(mapper={'category_3_A':'Cat3TotA', 'category_3_B':'Cat3TotB'}, axis=1, inplace=True)"
   ]
  },
  {
   "cell_type": "markdown",
   "metadata": {
    "heading_collapsed": true
   },
   "source": [
    "### 4. Total # of installments for each card_id"
   ]
  },
  {
   "cell_type": "code",
   "execution_count": 15,
   "metadata": {
    "hidden": true
   },
   "outputs": [
    {
     "data": {
      "text/html": [
       "<div>\n",
       "<style scoped>\n",
       "    .dataframe tbody tr th:only-of-type {\n",
       "        vertical-align: middle;\n",
       "    }\n",
       "\n",
       "    .dataframe tbody tr th {\n",
       "        vertical-align: top;\n",
       "    }\n",
       "\n",
       "    .dataframe thead th {\n",
       "        text-align: right;\n",
       "    }\n",
       "</style>\n",
       "<table border=\"1\" class=\"dataframe\">\n",
       "  <thead>\n",
       "    <tr style=\"text-align: right;\">\n",
       "      <th></th>\n",
       "      <th>first_active_month</th>\n",
       "      <th>card_id</th>\n",
       "      <th>feature_1</th>\n",
       "      <th>feature_2</th>\n",
       "      <th>feature_3</th>\n",
       "      <th>target</th>\n",
       "      <th>TransTotNum</th>\n",
       "      <th>purchase_amount</th>\n",
       "      <th>Cat_1_Y</th>\n",
       "      <th>Cat2Tot1</th>\n",
       "      <th>Cat2Tot2</th>\n",
       "      <th>Cat2Tot3</th>\n",
       "      <th>Cat2Tot4</th>\n",
       "      <th>Cat3TotA</th>\n",
       "      <th>Cat3TotB</th>\n",
       "      <th>TotInsNum</th>\n",
       "    </tr>\n",
       "  </thead>\n",
       "  <tbody>\n",
       "    <tr>\n",
       "      <th>0</th>\n",
       "      <td>2017-06</td>\n",
       "      <td>C_ID_92a2005557</td>\n",
       "      <td>5</td>\n",
       "      <td>2</td>\n",
       "      <td>1</td>\n",
       "      <td>-0.820283</td>\n",
       "      <td>275</td>\n",
       "      <td>-174.081299</td>\n",
       "      <td>0</td>\n",
       "      <td>272</td>\n",
       "      <td>0</td>\n",
       "      <td>0</td>\n",
       "      <td>0</td>\n",
       "      <td>275</td>\n",
       "      <td>0</td>\n",
       "      <td>0</td>\n",
       "    </tr>\n",
       "    <tr>\n",
       "      <th>1</th>\n",
       "      <td>2017-01</td>\n",
       "      <td>C_ID_3d0044924f</td>\n",
       "      <td>4</td>\n",
       "      <td>1</td>\n",
       "      <td>0</td>\n",
       "      <td>0.392913</td>\n",
       "      <td>360</td>\n",
       "      <td>-221.010391</td>\n",
       "      <td>33</td>\n",
       "      <td>327</td>\n",
       "      <td>0</td>\n",
       "      <td>0</td>\n",
       "      <td>0</td>\n",
       "      <td>0</td>\n",
       "      <td>286</td>\n",
       "      <td>554</td>\n",
       "    </tr>\n",
       "    <tr>\n",
       "      <th>2</th>\n",
       "      <td>2016-08</td>\n",
       "      <td>C_ID_d639edf6cd</td>\n",
       "      <td>2</td>\n",
       "      <td>2</td>\n",
       "      <td>0</td>\n",
       "      <td>0.688056</td>\n",
       "      <td>43</td>\n",
       "      <td>-29.239578</td>\n",
       "      <td>0</td>\n",
       "      <td>5</td>\n",
       "      <td>0</td>\n",
       "      <td>0</td>\n",
       "      <td>0</td>\n",
       "      <td>43</td>\n",
       "      <td>0</td>\n",
       "      <td>0</td>\n",
       "    </tr>\n",
       "    <tr>\n",
       "      <th>3</th>\n",
       "      <td>2017-09</td>\n",
       "      <td>C_ID_186d6a6901</td>\n",
       "      <td>4</td>\n",
       "      <td>3</td>\n",
       "      <td>0</td>\n",
       "      <td>0.142495</td>\n",
       "      <td>96</td>\n",
       "      <td>-62.278957</td>\n",
       "      <td>14</td>\n",
       "      <td>20</td>\n",
       "      <td>0</td>\n",
       "      <td>0</td>\n",
       "      <td>62</td>\n",
       "      <td>0</td>\n",
       "      <td>85</td>\n",
       "      <td>103</td>\n",
       "    </tr>\n",
       "    <tr>\n",
       "      <th>4</th>\n",
       "      <td>2017-11</td>\n",
       "      <td>C_ID_cdbd2c0db2</td>\n",
       "      <td>1</td>\n",
       "      <td>3</td>\n",
       "      <td>0</td>\n",
       "      <td>-0.159749</td>\n",
       "      <td>173</td>\n",
       "      <td>-92.751595</td>\n",
       "      <td>15</td>\n",
       "      <td>19</td>\n",
       "      <td>0</td>\n",
       "      <td>7</td>\n",
       "      <td>131</td>\n",
       "      <td>0</td>\n",
       "      <td>167</td>\n",
       "      <td>188</td>\n",
       "    </tr>\n",
       "  </tbody>\n",
       "</table>\n",
       "</div>"
      ],
      "text/plain": [
       "  first_active_month          card_id  feature_1  feature_2  feature_3  \\\n",
       "0            2017-06  C_ID_92a2005557          5          2          1   \n",
       "1            2017-01  C_ID_3d0044924f          4          1          0   \n",
       "2            2016-08  C_ID_d639edf6cd          2          2          0   \n",
       "3            2017-09  C_ID_186d6a6901          4          3          0   \n",
       "4            2017-11  C_ID_cdbd2c0db2          1          3          0   \n",
       "\n",
       "     target  TransTotNum  purchase_amount  Cat_1_Y  Cat2Tot1  Cat2Tot2  \\\n",
       "0 -0.820283          275      -174.081299        0       272         0   \n",
       "1  0.392913          360      -221.010391       33       327         0   \n",
       "2  0.688056           43       -29.239578        0         5         0   \n",
       "3  0.142495           96       -62.278957       14        20         0   \n",
       "4 -0.159749          173       -92.751595       15        19         0   \n",
       "\n",
       "   Cat2Tot3  Cat2Tot4  Cat3TotA  Cat3TotB  TotInsNum  \n",
       "0         0         0       275         0          0  \n",
       "1         0         0         0       286        554  \n",
       "2         0         0        43         0          0  \n",
       "3         0        62         0        85        103  \n",
       "4         7       131         0       167        188  "
      ]
     },
     "execution_count": 15,
     "metadata": {},
     "output_type": "execute_result"
    }
   ],
   "source": [
    "# Aggregating by total # of installments for each card_id\n",
    "\n",
    "TotInsNum = FullTrainAgg[['card_id','installments']]\n",
    "\n",
    "TotInsNum = TotInsNum.groupby((['card_id'])).sum()\n",
    "\n",
    "Train=pd.merge(Train,TotInsNum,how='left',on='card_id');\n",
    "\n",
    "Train.rename(mapper={'installments':'TotInsNum'}, axis=1, inplace=True);Train.head()"
   ]
  },
  {
   "cell_type": "markdown",
   "metadata": {
    "heading_collapsed": true
   },
   "source": [
    "### 5. Avg Purchase amount"
   ]
  },
  {
   "cell_type": "code",
   "execution_count": 17,
   "metadata": {
    "collapsed": true,
    "hidden": true
   },
   "outputs": [
    {
     "data": {
      "text/plain": [
       "count    201917.000000\n",
       "mean         -0.540173\n",
       "std           0.367334\n",
       "min          -0.745371\n",
       "25%          -0.679621\n",
       "50%          -0.626560\n",
       "75%          -0.521473\n",
       "max          36.454815\n",
       "Name: AvgPurAmt, dtype: float64"
      ]
     },
     "execution_count": 17,
     "metadata": {},
     "output_type": "execute_result"
    }
   ],
   "source": [
    "# Find using existing columns: TotPurAmt / NumApprTrans\n",
    "\n",
    "Train['AvgPurAmt'] = Train['purchase_amount'] / Train['TransTotNum'];Train.AvgPurAmt.describe()"
   ]
  },
  {
   "cell_type": "markdown",
   "metadata": {
    "heading_collapsed": true
   },
   "source": [
    "### 6. Latest transaction for each card_id"
   ]
  },
  {
   "cell_type": "code",
   "execution_count": 18,
   "metadata": {
    "collapsed": true,
    "hidden": true
   },
   "outputs": [],
   "source": [
    "# This part only removes the timestamp from purchase_date\n",
    "\n",
    "FullTrainAgg.purchase_date=pd.to_datetime(FullTrainAgg.purchase_date,format='%Y-%m-%d')\n",
    "\n",
    "FullTrainAgg['purchase_date']=FullTrainAgg['purchase_date'].dt.date\n",
    "\n",
    "FullTrainAgg.purchase_date.max() # Its finding the correct max\n",
    "\n",
    "LatestPurDate = FullTrainAgg[['card_id','purchase_date']]\n",
    "\n",
    "LatestPurDate = LatestPurDate.groupby((['card_id'])).max()\n",
    "\n",
    "Train=pd.merge(Train, LatestPurDate, how='left',on='card_id')\n",
    "\n",
    "Train.rename(mapper={'purchase_date':'LatestPurDate'},axis=1,inplace=True)"
   ]
  },
  {
   "cell_type": "markdown",
   "metadata": {
    "heading_collapsed": true
   },
   "source": [
    "### 7. Length of time from first active month to latest purchase"
   ]
  },
  {
   "cell_type": "code",
   "execution_count": 19,
   "metadata": {
    "collapsed": true,
    "hidden": true
   },
   "outputs": [],
   "source": [
    "Train.first_active_month = pd.to_datetime(Train.first_active_month)\n",
    "\n",
    "Train.first_active_month = Train.first_active_month.dt.date\n",
    "\n",
    "Train.first_active_month.describe()\n",
    "\n",
    "# Use existing columns: LatestPurDate - first_active_month\n",
    "\n",
    "Train['TimeSpent'] = Train['LatestPurDate'] - Train['first_active_month']"
   ]
  },
  {
   "cell_type": "markdown",
   "metadata": {
    "heading_collapsed": true
   },
   "source": [
    "### 8. Purchase amount over time spent - Proxy for Customer Lifetime Value"
   ]
  },
  {
   "cell_type": "code",
   "execution_count": 20,
   "metadata": {
    "collapsed": true,
    "hidden": true
   },
   "outputs": [
    {
     "data": {
      "text/plain": [
       "0   -0.524341\n",
       "1   -0.487882\n",
       "2   -0.046047\n",
       "3   -0.271961\n",
       "4   -0.521076\n",
       "5   -0.038429\n",
       "6   -0.361384\n",
       "7   -0.102032\n",
       "8   -0.030246\n",
       "9   -0.117745\n",
       "Name: CLV, dtype: float32"
      ]
     },
     "execution_count": 20,
     "metadata": {},
     "output_type": "execute_result"
    }
   ],
   "source": [
    "# Use existing columns: TotPurAmt - TimeSpent\n",
    "\n",
    "Train['CLV'] = Train['purchase_amount'] / Train['TimeSpent'].dt.days; Train.CLV.head(10)"
   ]
  },
  {
   "cell_type": "markdown",
   "metadata": {
    "hidden": true
   },
   "source": [
    "__Exporting aggregated DF for later use__"
   ]
  },
  {
   "cell_type": "code",
   "execution_count": 107,
   "metadata": {
    "collapsed": true,
    "hidden": true
   },
   "outputs": [],
   "source": [
    "Train.to_pickle('TrainAgg2')"
   ]
  }
 ],
 "metadata": {
  "kernelspec": {
   "display_name": "Python 3",
   "language": "python",
   "name": "python3"
  },
  "language_info": {
   "codemirror_mode": {
    "name": "ipython",
    "version": 3
   },
   "file_extension": ".py",
   "mimetype": "text/x-python",
   "name": "python",
   "nbconvert_exporter": "python",
   "pygments_lexer": "ipython3",
   "version": "3.6.8"
  },
  "toc": {
   "base_numbering": 1,
   "nav_menu": {},
   "number_sections": true,
   "sideBar": true,
   "skip_h1_title": false,
   "title_cell": "Table of Contents",
   "title_sidebar": "Contents",
   "toc_cell": false,
   "toc_position": {},
   "toc_section_display": true,
   "toc_window_display": false
  }
 },
 "nbformat": 4,
 "nbformat_minor": 2
}
